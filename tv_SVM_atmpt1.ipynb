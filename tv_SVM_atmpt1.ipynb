{
 "cells": [
  {
   "cell_type": "code",
   "execution_count": null,
   "id": "initial_id",
   "metadata": {
    "collapsed": true
   },
   "outputs": [],
   "source": [
    "from matplotlib import pyplot as plt\n",
    "from sklearn.datasets import load_iris\n",
    "from sklearn.model_selection import train_test_split\n",
    "import torch\n",
    "import numpy as np"
   ]
  },
  {
   "cell_type": "code",
   "execution_count": null,
   "outputs": [],
   "source": [
    "def plot(x_index, y_index):\n",
    "    formatter = plt.FuncFormatter(lambda i, *args: iris.target_names[int(i)])\n",
    "    plt.scatter(iris.data[:, x_index], iris.data[:, y_index], c=iris.target)\n",
    "    plt.colorbar(ticks=[0, 1, 2], format=formatter)\n",
    "    plt.xlabel(iris.feature_names[x_index])\n",
    "    plt.ylabel(iris.feature_names[y_index])\n",
    "\n",
    "iris = load_iris()\n",
    "plt.figure(figsize=(14, 4))\n",
    "plt.subplot(121)\n",
    "plot(0, 1)\n",
    "plt.subplot(122)\n",
    "plot(2, 3)\n",
    "plt.show()"
   ],
   "metadata": {
    "collapsed": false
   },
   "id": "6996d70517d9e037"
  },
  {
   "cell_type": "code",
   "execution_count": null,
   "outputs": [],
   "source": [
    "X = [[x[2], x[3]] for x in iris.data]\n",
    "y = iris.target.copy()\n",
    "for i in range(len(y)):\n",
    "    if y[i] == 0: y[i] = 1\n",
    "    else: y[i] = -1\n",
    "X_train, X_test, y_train, y_test = train_test_split(X, y, test_size=0.2)"
   ],
   "metadata": {
    "collapsed": false
   },
   "id": "8c429dec053d8d74"
  },
  {
   "cell_type": "code",
   "execution_count": null,
   "outputs": [],
   "source": [
    "from numpy.random import shuffle\n",
    "\n",
    "dim = len(X[0])\n",
    "w = torch.autograd.Variable(torch.rand(dim), requires_grad=True)\n",
    "b = torch.autograd.Variable(torch.rand(1),   requires_grad=True)\n",
    "\n",
    "step_size = 1e-3\n",
    "num_epochs = 5000\n",
    "minibatch_size = 20\n",
    "\n",
    "for epoch in range(num_epochs):\n",
    "    inds = [i for i in range(len(X_train))]\n",
    "    shuffle(inds)\n",
    "    for i in range(len(inds)):\n",
    "        L = max(0, 1 - y_train[inds[i]] * (torch.dot(w, torch.Tensor(X_train[inds[i]])) - b))**2\n",
    "        if L != 0: # if the loss is zero, Pytorch leaves the variables as a float 0.0, so we can't call backward() on it\n",
    "            L.backward()\n",
    "            w.data -= step_size * w.grad.data # step\n",
    "            b.data -= step_size * b.grad.data # step\n",
    "            w.grad.data.zero_()\n",
    "            b.grad.data.zero_()"
   ],
   "metadata": {
    "collapsed": false
   },
   "id": "a3aef422b7d6feed"
  },
  {
   "cell_type": "code",
   "execution_count": null,
   "outputs": [],
   "source": [
    "print('plane equation:  w=', w.detach().numpy(), 'b =', b.detach().numpy()[0])\n",
    "\n",
    "def accuracy(X, y):\n",
    "    correct = 0\n",
    "    for i in range(len(y)):\n",
    "        y_predicted = int(np.sign((torch.dot(w, torch.Tensor(X[i])) - b).detach().numpy()[0]))\n",
    "        if y_predicted == y[i]: correct += 1\n",
    "    return float(correct)/len(y)\n",
    "\n",
    "print('train accuracy', accuracy(X_train, y_train))\n",
    "print('test accuracy', accuracy(X_test, y_test))"
   ],
   "metadata": {
    "collapsed": false
   },
   "id": "1a94a8b988468fed"
  },
  {
   "cell_type": "code",
   "execution_count": null,
   "outputs": [],
   "source": [
    "def line_func(x, offset):\n",
    "    return   -1 * (offset - b.detach().numpy()[0] + w.detach().numpy()[0] * x ) / w.detach().numpy()[1]\n",
    "\n",
    "x = np.array(range(1, 5))\n",
    "ym = line_func(x,  0)\n",
    "yp = line_func(x,  1)\n",
    "yn = line_func(x, -1)\n",
    "\n",
    "x_index = 2\n",
    "y_index = 3\n",
    "plt.figure(figsize=(8, 6))\n",
    "formatter = plt.FuncFormatter(lambda i, *args: iris.target_names[int(i)])\n",
    "plt.scatter(iris.data[:, x_index], iris.data[:, y_index], c=iris.target)\n",
    "plt.colorbar(ticks=[0, 1, 2], format=formatter)\n",
    "plt.xlabel(iris.feature_names[x_index])\n",
    "plt.ylabel(iris.feature_names[y_index])\n",
    "plt.plot(x, ym)\n",
    "plt.plot(x, yp)\n",
    "plt.plot(x, yn)"
   ],
   "metadata": {
    "collapsed": false
   },
   "id": "7a15e371c89eb115"
  },
  {
   "cell_type": "code",
   "execution_count": null,
   "outputs": [],
   "source": [],
   "metadata": {
    "collapsed": false
   },
   "id": "f4b18d29247b7549"
  }
 ],
 "metadata": {
  "kernelspec": {
   "display_name": "Python 3",
   "language": "python",
   "name": "python3"
  },
  "language_info": {
   "codemirror_mode": {
    "name": "ipython",
    "version": 2
   },
   "file_extension": ".py",
   "mimetype": "text/x-python",
   "name": "python",
   "nbconvert_exporter": "python",
   "pygments_lexer": "ipython2",
   "version": "2.7.6"
  }
 },
 "nbformat": 4,
 "nbformat_minor": 5
}
